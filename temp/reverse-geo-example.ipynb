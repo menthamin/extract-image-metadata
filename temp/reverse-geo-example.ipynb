{
 "cells": [
  {
   "cell_type": "markdown",
   "source": [
    "# Naver reverse geocoding\n",
    "- https://api.ncloud-docs.com/docs/ai-naver-mapsreversegeocoding"
   ],
   "metadata": {
    "collapsed": false,
    "pycharm": {
     "name": "#%% md\n"
    }
   }
  },
  {
   "cell_type": "code",
   "execution_count": 19,
   "outputs": [],
   "source": [
    "import requests\n",
    "from dotenv import load_dotenv\n",
    "import os\n",
    "from pprint import pprint"
   ],
   "metadata": {
    "collapsed": false,
    "pycharm": {
     "name": "#%%\n"
    }
   }
  },
  {
   "cell_type": "markdown",
   "source": [
    "## get env"
   ],
   "metadata": {
    "collapsed": false,
    "pycharm": {
     "name": "#%% md\n"
    }
   }
  },
  {
   "cell_type": "code",
   "execution_count": 12,
   "outputs": [],
   "source": [
    "load_dotenv(\"../.env\")\n",
    "reverse_geo_id = os.environ.get(\"reverse_geo_id\")\n",
    "reverse_geo_secret = os.environ.get(\"reverse_geo_secret\")"
   ],
   "metadata": {
    "collapsed": false,
    "pycharm": {
     "name": "#%%\n"
    }
   }
  },
  {
   "cell_type": "markdown",
   "source": [
    "## sample code"
   ],
   "metadata": {
    "collapsed": false,
    "pycharm": {
     "name": "#%% md\n"
    }
   }
  },
  {
   "cell_type": "code",
   "execution_count": 14,
   "outputs": [],
   "source": [
    "naver_url = \"https://naveropenapi.apigw.ntruss.com/map-reversegeocode/v2/gc\"\n",
    "gc_url = \"?request=coordsToaddr&coords=127.116359386937,37.40612091848614&sourcecrs=epsg:4326&orders=admcode,legalcode,addr,roadaddr&output=json\"\n",
    "concat_url = naver_url + gc_url\n",
    "naver_headers = {\"X-NCP-APIGW-API-KEY-ID\": reverse_geo_id, \"X-NCP-APIGW-API-KEY\": reverse_geo_secret}"
   ],
   "metadata": {
    "collapsed": false,
    "pycharm": {
     "name": "#%%\n"
    }
   }
  },
  {
   "cell_type": "code",
   "execution_count": 22,
   "outputs": [],
   "source": [
    "request_reverse_geo = requests.get(concat_url, headers=naver_headers)"
   ],
   "metadata": {
    "collapsed": false,
    "pycharm": {
     "name": "#%%\n"
    }
   }
  },
  {
   "cell_type": "code",
   "execution_count": 23,
   "outputs": [
    {
     "data": {
      "text/plain": "{'status': {'code': 0, 'name': 'ok', 'message': 'done'},\n 'results': [{'name': 'admcode',\n   'code': {'id': '4113565500', 'type': 'S', 'mappingId': '02135109'},\n   'region': {'area0': {'name': 'kr',\n     'coords': {'center': {'crs': '', 'x': 0.0, 'y': 0.0}}},\n    'area1': {'name': '경기도',\n     'coords': {'center': {'crs': 'EPSG:4326',\n       'x': 127.550802,\n       'y': 37.4363177}},\n     'alias': '경기'},\n    'area2': {'name': '성남시 분당구',\n     'coords': {'center': {'crs': 'EPSG:4326',\n       'x': 127.1189255,\n       'y': 37.3828195}}},\n    'area3': {'name': '삼평동',\n     'coords': {'center': {'crs': 'EPSG:4326',\n       'x': 127.1163916,\n       'y': 37.4060784}}},\n    'area4': {'name': '',\n     'coords': {'center': {'crs': '', 'x': 0.0, 'y': 0.0}}}}},\n  {'name': 'legalcode',\n   'code': {'id': '4113510900', 'type': 'L', 'mappingId': '02135109'},\n   'region': {'area0': {'name': 'kr',\n     'coords': {'center': {'crs': '', 'x': 0.0, 'y': 0.0}}},\n    'area1': {'name': '경기도',\n     'coords': {'center': {'crs': 'EPSG:4326',\n       'x': 127.550802,\n       'y': 37.4363177}},\n     'alias': '경기'},\n    'area2': {'name': '성남시 분당구',\n     'coords': {'center': {'crs': 'EPSG:4326',\n       'x': 127.1189255,\n       'y': 37.3828195}}},\n    'area3': {'name': '삼평동',\n     'coords': {'center': {'crs': 'EPSG:4326',\n       'x': 127.1163916,\n       'y': 37.4060784}}},\n    'area4': {'name': '',\n     'coords': {'center': {'crs': '', 'x': 0.0, 'y': 0.0}}}}},\n  {'name': 'addr',\n   'code': {'id': '4113510900', 'type': 'L', 'mappingId': '02135109'},\n   'region': {'area0': {'name': 'kr',\n     'coords': {'center': {'crs': '', 'x': 0.0, 'y': 0.0}}},\n    'area1': {'name': '경기도',\n     'coords': {'center': {'crs': 'EPSG:4326',\n       'x': 127.550802,\n       'y': 37.4363177}},\n     'alias': '경기'},\n    'area2': {'name': '성남시 분당구',\n     'coords': {'center': {'crs': 'EPSG:4326',\n       'x': 127.1189255,\n       'y': 37.3828195}}},\n    'area3': {'name': '삼평동',\n     'coords': {'center': {'crs': 'EPSG:4326',\n       'x': 127.1163916,\n       'y': 37.4060784}}},\n    'area4': {'name': '',\n     'coords': {'center': {'crs': '', 'x': 0.0, 'y': 0.0}}}},\n   'land': {'type': '1',\n    'number1': '712',\n    'number2': '',\n    'addition0': {'type': '', 'value': ''},\n    'addition1': {'type': '', 'value': ''},\n    'addition2': {'type': '', 'value': ''},\n    'addition3': {'type': '', 'value': ''},\n    'addition4': {'type': '', 'value': ''},\n    'coords': {'center': {'crs': '', 'x': 0.0, 'y': 0.0}}}},\n  {'name': 'roadaddr',\n   'code': {'id': '4113510900', 'type': 'L', 'mappingId': '02135109'},\n   'region': {'area0': {'name': 'kr',\n     'coords': {'center': {'crs': '', 'x': 0.0, 'y': 0.0}}},\n    'area1': {'name': '경기도',\n     'coords': {'center': {'crs': 'EPSG:4326',\n       'x': 127.550802,\n       'y': 37.4363177}},\n     'alias': '경기'},\n    'area2': {'name': '성남시 분당구',\n     'coords': {'center': {'crs': 'EPSG:4326',\n       'x': 127.1189255,\n       'y': 37.3828195}}},\n    'area3': {'name': '삼평동',\n     'coords': {'center': {'crs': 'EPSG:4326',\n       'x': 127.1163916,\n       'y': 37.4060784}}},\n    'area4': {'name': '',\n     'coords': {'center': {'crs': '', 'x': 0.0, 'y': 0.0}}}},\n   'land': {'type': '',\n    'number1': '7',\n    'number2': '',\n    'addition0': {'type': 'building', 'value': '삼평동 행정복지센터'},\n    'addition1': {'type': 'zipcode', 'value': '13490'},\n    'addition2': {'type': 'roadGroupCode', 'value': '411354334616'},\n    'addition3': {'type': '', 'value': ''},\n    'addition4': {'type': '', 'value': ''},\n    'name': '동판교로266번길',\n    'coords': {'center': {'crs': '', 'x': 0.0, 'y': 0.0}}}}]}"
     },
     "execution_count": 23,
     "metadata": {},
     "output_type": "execute_result"
    }
   ],
   "source": [
    "request_reverse_geo.json()"
   ],
   "metadata": {
    "collapsed": false,
    "pycharm": {
     "name": "#%%\n"
    }
   }
  },
  {
   "cell_type": "code",
   "execution_count": 21,
   "outputs": [
    {
     "name": "stdout",
     "output_type": "stream",
     "text": [
      "('{\"status\":{\"code\":0,\"name\":\"ok\",\"message\":\"done\"},\"results\":[{\"name\":\"admcode\",\"code\":{\"id\":\"4113565500\",\"type\":\"S\",\"mappingId\":\"02135109\"},\"region\":{\"area0\":{\"name\":\"kr\",\"coords\":{\"center\":{\"crs\":\"\",\"x\":0.0,\"y\":0.0}}},\"area1\":{\"name\":\"경기도\",\"coords\":{\"center\":{\"crs\":\"EPSG:4326\",\"x\":127.550802,\"y\":37.4363177}},\"alias\":\"경기\"},\"area2\":{\"name\":\"성남시 '\n",
      " '분당구\",\"coords\":{\"center\":{\"crs\":\"EPSG:4326\",\"x\":127.1189255,\"y\":37.3828195}}},\"area3\":{\"name\":\"삼평동\",\"coords\":{\"center\":{\"crs\":\"EPSG:4326\",\"x\":127.1163916,\"y\":37.4060784}}},\"area4\":{\"name\":\"\",\"coords\":{\"center\":{\"crs\":\"\",\"x\":0.0,\"y\":0.0}}}}},{\"name\":\"legalcode\",\"code\":{\"id\":\"4113510900\",\"type\":\"L\",\"mappingId\":\"02135109\"},\"region\":{\"area0\":{\"name\":\"kr\",\"coords\":{\"center\":{\"crs\":\"\",\"x\":0.0,\"y\":0.0}}},\"area1\":{\"name\":\"경기도\",\"coords\":{\"center\":{\"crs\":\"EPSG:4326\",\"x\":127.550802,\"y\":37.4363177}},\"alias\":\"경기\"},\"area2\":{\"name\":\"성남시 '\n",
      " '분당구\",\"coords\":{\"center\":{\"crs\":\"EPSG:4326\",\"x\":127.1189255,\"y\":37.3828195}}},\"area3\":{\"name\":\"삼평동\",\"coords\":{\"center\":{\"crs\":\"EPSG:4326\",\"x\":127.1163916,\"y\":37.4060784}}},\"area4\":{\"name\":\"\",\"coords\":{\"center\":{\"crs\":\"\",\"x\":0.0,\"y\":0.0}}}}},{\"name\":\"addr\",\"code\":{\"id\":\"4113510900\",\"type\":\"L\",\"mappingId\":\"02135109\"},\"region\":{\"area0\":{\"name\":\"kr\",\"coords\":{\"center\":{\"crs\":\"\",\"x\":0.0,\"y\":0.0}}},\"area1\":{\"name\":\"경기도\",\"coords\":{\"center\":{\"crs\":\"EPSG:4326\",\"x\":127.550802,\"y\":37.4363177}},\"alias\":\"경기\"},\"area2\":{\"name\":\"성남시 '\n",
      " '분당구\",\"coords\":{\"center\":{\"crs\":\"EPSG:4326\",\"x\":127.1189255,\"y\":37.3828195}}},\"area3\":{\"name\":\"삼평동\",\"coords\":{\"center\":{\"crs\":\"EPSG:4326\",\"x\":127.1163916,\"y\":37.4060784}}},\"area4\":{\"name\":\"\",\"coords\":{\"center\":{\"crs\":\"\",\"x\":0.0,\"y\":0.0}}}},\"land\":{\"type\":\"1\",\"number1\":\"712\",\"number2\":\"\",\"addition0\":{\"type\":\"\",\"value\":\"\"},\"addition1\":{\"type\":\"\",\"value\":\"\"},\"addition2\":{\"type\":\"\",\"value\":\"\"},\"addition3\":{\"type\":\"\",\"value\":\"\"},\"addition4\":{\"type\":\"\",\"value\":\"\"},\"coords\":{\"center\":{\"crs\":\"\",\"x\":0.0,\"y\":0.0}}}},{\"name\":\"roadaddr\",\"code\":{\"id\":\"4113510900\",\"type\":\"L\",\"mappingId\":\"02135109\"},\"region\":{\"area0\":{\"name\":\"kr\",\"coords\":{\"center\":{\"crs\":\"\",\"x\":0.0,\"y\":0.0}}},\"area1\":{\"name\":\"경기도\",\"coords\":{\"center\":{\"crs\":\"EPSG:4326\",\"x\":127.550802,\"y\":37.4363177}},\"alias\":\"경기\"},\"area2\":{\"name\":\"성남시 '\n",
      " '분당구\",\"coords\":{\"center\":{\"crs\":\"EPSG:4326\",\"x\":127.1189255,\"y\":37.3828195}}},\"area3\":{\"name\":\"삼평동\",\"coords\":{\"center\":{\"crs\":\"EPSG:4326\",\"x\":127.1163916,\"y\":37.4060784}}},\"area4\":{\"name\":\"\",\"coords\":{\"center\":{\"crs\":\"\",\"x\":0.0,\"y\":0.0}}}},\"land\":{\"type\":\"\",\"number1\":\"7\",\"number2\":\"\",\"addition0\":{\"type\":\"building\",\"value\":\"삼평동 '\n",
      " '행정복지센터\"},\"addition1\":{\"type\":\"zipcode\",\"value\":\"13490\"},\"addition2\":{\"type\":\"roadGroupCode\",\"value\":\"411354334616\"},\"addition3\":{\"type\":\"\",\"value\":\"\"},\"addition4\":{\"type\":\"\",\"value\":\"\"},\"name\":\"동판교로266번길\",\"coords\":{\"center\":{\"crs\":\"\",\"x\":0.0,\"y\":0.0}}}}]}')\n"
     ]
    }
   ],
   "source": [
    "pprint(request_reverse_geo.text)"
   ],
   "metadata": {
    "collapsed": false,
    "pycharm": {
     "name": "#%%\n"
    }
   }
  },
  {
   "cell_type": "markdown",
   "source": [],
   "metadata": {
    "collapsed": false,
    "pycharm": {
     "name": "#%% md\n"
    }
   }
  },
  {
   "cell_type": "code",
   "execution_count": null,
   "outputs": [],
   "source": [],
   "metadata": {
    "collapsed": false,
    "pycharm": {
     "name": "#%%\n"
    }
   }
  }
 ],
 "metadata": {
  "kernelspec": {
   "display_name": "Python 3",
   "language": "python",
   "name": "python3"
  },
  "language_info": {
   "codemirror_mode": {
    "name": "ipython",
    "version": 2
   },
   "file_extension": ".py",
   "mimetype": "text/x-python",
   "name": "python",
   "nbconvert_exporter": "python",
   "pygments_lexer": "ipython2",
   "version": "2.7.6"
  }
 },
 "nbformat": 4,
 "nbformat_minor": 0
}