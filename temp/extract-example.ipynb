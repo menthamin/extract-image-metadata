{
 "cells": [
  {
   "cell_type": "code",
   "execution_count": 23,
   "outputs": [],
   "source": [
    "import PIL.Image\n",
    "from pprint import pprint"
   ],
   "metadata": {
    "collapsed": false,
    "pycharm": {
     "name": "#%%\n"
    }
   }
  },
  {
   "cell_type": "code",
   "execution_count": 54,
   "outputs": [],
   "source": [
    "img1 = PIL.Image.open(\"/Users/jmjeon/Documents/사진/식물/KakaoTalk_Photo_2022-08-07-22-00-01.jpeg\")\n",
    "meta_data = img1._getexif()\n",
    "# pprint(meta_data)"
   ],
   "metadata": {
    "collapsed": false,
    "pycharm": {
     "name": "#%%\n"
    }
   }
  },
  {
   "cell_type": "markdown",
   "source": [
    "### 메타데이터 정보\n",
    "- 271: 제조사\n",
    "- 272: 모델명\n",
    "- 36868: 촬영 시각\n",
    "- 36881: 촬영 시각 offset 정보\n",
    "- 34853: 좌표 정보 2: 경도, 4: 위도, 6: 고도\n"
   ],
   "metadata": {
    "collapsed": false,
    "pycharm": {
     "name": "#%% md\n"
    }
   }
  },
  {
   "cell_type": "code",
   "execution_count": 58,
   "outputs": [],
   "source": [
    "company = meta_data[271]\n",
    "model = meta_data[272]\n",
    "time_stamp = meta_data[36868]\n",
    "time_stamp_offset = meta_data[36881]\n",
    "gps_info = meta_data[34853]"
   ],
   "metadata": {
    "collapsed": false,
    "pycharm": {
     "name": "#%%\n"
    }
   }
  },
  {
   "cell_type": "code",
   "execution_count": 60,
   "outputs": [
    {
     "name": "stdout",
     "output_type": "stream",
     "text": [
      "(37.0, 17.0, 8.2302)\n"
     ]
    }
   ],
   "source": [
    "print(gps_info[2])"
   ],
   "metadata": {
    "collapsed": false,
    "pycharm": {
     "name": "#%%\n"
    }
   }
  },
  {
   "cell_type": "code",
   "execution_count": 61,
   "outputs": [
    {
     "name": "stdout",
     "output_type": "stream",
     "text": [
      "(127.0, 1.0, 4.62072)\n"
     ]
    }
   ],
   "source": [
    "print(gps_info[4])"
   ],
   "metadata": {
    "collapsed": false,
    "pycharm": {
     "name": "#%%\n"
    }
   }
  },
  {
   "cell_type": "markdown",
   "source": [
    "### 도/분/초 변환 필요\n",
    "- http://map.ngii.go.kr/ms/mesrInfo/coordinate.do#none"
   ],
   "metadata": {
    "collapsed": false,
    "pycharm": {
     "name": "#%% md\n"
    }
   }
  },
  {
   "cell_type": "code",
   "execution_count": null,
   "outputs": [],
   "source": [],
   "metadata": {
    "collapsed": false,
    "pycharm": {
     "name": "#%%\n"
    }
   }
  }
 ],
 "metadata": {
  "kernelspec": {
   "display_name": "Python 3",
   "language": "python",
   "name": "python3"
  },
  "language_info": {
   "codemirror_mode": {
    "name": "ipython",
    "version": 2
   },
   "file_extension": ".py",
   "mimetype": "text/x-python",
   "name": "python",
   "nbconvert_exporter": "python",
   "pygments_lexer": "ipython2",
   "version": "2.7.6"
  }
 },
 "nbformat": 4,
 "nbformat_minor": 0
}