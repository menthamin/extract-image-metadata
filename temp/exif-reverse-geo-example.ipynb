{
 "cells": [
  {
   "cell_type": "code",
   "execution_count": 2,
   "outputs": [],
   "source": [
    "import PIL.Image\n",
    "import requests\n",
    "from dotenv import load_dotenv\n",
    "import os\n",
    "from pprint import pprint"
   ],
   "metadata": {
    "collapsed": false,
    "pycharm": {
     "name": "#%%\n"
    }
   }
  },
  {
   "cell_type": "code",
   "execution_count": 106,
   "outputs": [],
   "source": [
    "load_dotenv(\"../.env\")\n",
    "REVERSE_GEO_ID = os.environ.get(\"reverse_geo_id\")\n",
    "REVERSE_GEO_KEY = os.environ.get(\"reverse_geo_secret\")\n",
    "NAVER_HEADERS = {\"X-NCP-APIGW-API-KEY-ID\": REVERSE_GEO_ID, \"X-NCP-APIGW-API-KEY\": REVERSE_GEO_KEY}\n",
    "\n",
    "def reverse_geocoding(longitude_x, latitude_y):\n",
    "    request_url = f\"https://naveropenapi.apigw.ntruss.com/map-reversegeocode/v2/gc?request=coordsToaddr&coords={longitude_x},{latitude_y}\\\n",
    "    &sourcecrs=epsg:4326&orders=admcode,legalcode,addr,roadaddr&output=json\"\n",
    "\n",
    "    get_response = requests.get(request_url, headers=NAVER_HEADERS)\n",
    "\n",
    "    return get_response.json()\n",
    "\n",
    "def dms_to_degree(longitude_dms: list, latitude_dms: list) -> list:\n",
    "    # Degree Minutes Seconds, DMS transform to Degree\n",
    "\n",
    "    longitude_degree = longitude_dms[0] + (longitude_dms[1] / 60) + (longitude_dms[2] / 3600)\n",
    "    latitude_degree = latitude_dms[0] + (latitude_dms[1] / 60) + (latitude_dms[2] / 3600)\n",
    "\n",
    "    return [float(longitude_degree), float(latitude_degree)]"
   ],
   "metadata": {
    "collapsed": false,
    "pycharm": {
     "name": "#%%\n"
    }
   }
  },
  {
   "cell_type": "code",
   "execution_count": 107,
   "outputs": [],
   "source": [
    "# text = url = reverse_geocoding(127.116359386937, 37.40612091848614)\n",
    "# pprint(text)"
   ],
   "metadata": {
    "collapsed": false,
    "pycharm": {
     "name": "#%%\n"
    }
   }
  },
  {
   "cell_type": "code",
   "execution_count": 108,
   "outputs": [],
   "source": [
    "img1 = PIL.Image.open(\"/Users/jmjeon/Documents/사진/식물/KakaoTalk_Photo_2022-08-07-22-00-01.jpeg\")\n",
    "meta_data = img1._getexif()"
   ],
   "metadata": {
    "collapsed": false,
    "pycharm": {
     "name": "#%%\n"
    }
   }
  },
  {
   "cell_type": "code",
   "execution_count": 116,
   "outputs": [],
   "source": [
    "company = meta_data[271]\n",
    "model = meta_data[272]\n",
    "time_stamp = meta_data[36868]\n",
    "time_stamp_offset = meta_data[36881]\n",
    "gps_info = meta_data[34853]"
   ],
   "metadata": {
    "collapsed": false,
    "pycharm": {
     "name": "#%%\n"
    }
   }
  },
  {
   "cell_type": "code",
   "execution_count": 118,
   "outputs": [],
   "source": [
    "degree = dms_to_degree(gps_info[4], gps_info[2])\n",
    "res = reverse_geocoding(longitude_x=degree[0], latitude_y=degree[1])"
   ],
   "metadata": {
    "collapsed": false,
    "pycharm": {
     "name": "#%%\n"
    }
   }
  },
  {
   "cell_type": "code",
   "execution_count": 137,
   "outputs": [],
   "source": [
    "area1 = res[\"results\"][1][\"region\"][\"area1\"][\"name\"]\n",
    "area2 = res[\"results\"][1][\"region\"][\"area2\"][\"name\"]\n",
    "area3 = res[\"results\"][1][\"region\"][\"area3\"][\"name\"]\n",
    "area4 = res[\"results\"][1][\"region\"][\"area4\"][\"name\"]"
   ],
   "metadata": {
    "collapsed": false,
    "pycharm": {
     "name": "#%%\n"
    }
   }
  },
  {
   "cell_type": "code",
   "execution_count": 143,
   "outputs": [],
   "source": [
    "area_name = f\"{area1} {area2} {area3}\""
   ],
   "metadata": {
    "collapsed": false,
    "pycharm": {
     "name": "#%%\n"
    }
   }
  },
  {
   "cell_type": "code",
   "execution_count": 144,
   "outputs": [
    {
     "name": "stdout",
     "output_type": "stream",
     "text": [
      "경기도 수원시 팔달구 매향동\n"
     ]
    }
   ],
   "source": [
    "print(area_name)"
   ],
   "metadata": {
    "collapsed": false,
    "pycharm": {
     "name": "#%%\n"
    }
   }
  },
  {
   "cell_type": "code",
   "execution_count": null,
   "outputs": [],
   "source": [],
   "metadata": {
    "collapsed": false,
    "pycharm": {
     "name": "#%%\n"
    }
   }
  }
 ],
 "metadata": {
  "kernelspec": {
   "display_name": "Python 3",
   "language": "python",
   "name": "python3"
  },
  "language_info": {
   "codemirror_mode": {
    "name": "ipython",
    "version": 2
   },
   "file_extension": ".py",
   "mimetype": "text/x-python",
   "name": "python",
   "nbconvert_exporter": "python",
   "pygments_lexer": "ipython2",
   "version": "2.7.6"
  }
 },
 "nbformat": 4,
 "nbformat_minor": 0
}